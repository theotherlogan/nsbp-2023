{
 "cells": [
  {
   "attachments": {},
   "cell_type": "markdown",
   "metadata": {},
   "source": [
    "### halo ratio (?) function\n",
    "looking at $N/N_{CDM}$ for both $z = 0$ and $z= rel.$, with mass remaining fixed and z as the independent variable. might be an interesting probe to see how scale suppression comes into play for different models.\n",
    "\n",
    "(cont. from the w3 notebook)"
   ]
  },
  {
   "cell_type": "code",
   "execution_count": null,
   "metadata": {},
   "outputs": [],
   "source": [
    "import os\n",
    "import numpy as np\n",
    "import pickle\n",
    "from helpers.SimulationAnalysis import SimulationAnalysis, readHlist\n",
    "import matplotlib.pylab as plt\n",
    "from cycler import cycler\n",
    "\n",
    "#......new imports (helper class)\n",
    "import sys\n",
    "sys.path.insert(0, '/Users/logan_main/nsbp-2023/scripts') # adding to the system path\n",
    "from hlistHelper import hlist\n",
    "\n",
    "#......formatting\n",
    "%matplotlib inline\n",
    "%config InlineBackend.figure_format='retina'\n",
    "%config InlineBackend.rc = {'figure.facecolor': 'w'}\n",
    "plt.rcParams[\"font.family\"] = \"serif\"\n",
    "plt.rcParams[\"mathtext.fontset\"] = 'cm'"
   ]
  },
  {
   "cell_type": "code",
   "execution_count": null,
   "metadata": {},
   "outputs": [],
   "source": [
    "with open(\"../data/sim_data.bin\", \"rb\") as f:\n",
    "    sim_data = pickle.load(f, encoding='latin1')\n",
    "\n",
    "#...... cold dark matter\n",
    "model = 'cdm'\n",
    "halo_num = 'Halo004'\n",
    "\n",
    "cdm = hlist(PATH='../data', halo_num='', model=model)\n",
    "cdm.load_hlists()\n",
    "cdm.hmb = sim_data[halo_num][model][0]\n",
    "\n",
    "#...... warm dark matter, 3 keV\n",
    "model = 'wdm_3'\n",
    "wdm = hlist(PATH='../data', halo_num='', model=model)\n",
    "wdm.load_hlists()\n",
    "wdm.hmb = sim_data[halo_num][model][0]"
   ]
  },
  {
   "attachments": {},
   "cell_type": "markdown",
   "metadata": {},
   "source": [
    "#### ---- original functions"
   ]
  },
  {
   "cell_type": "code",
   "execution_count": null,
   "metadata": {},
   "outputs": [],
   "source": [
    "# TODO: come back to fix this (overflow error?)\n",
    "\n",
    "def get_ratio(model: hlist = cdm, m: float = 0):\n",
    "    a_range = [ a for a in list(model.dict.keys()) if (1.0/a) - 1.0 < 4.5]\n",
    "\n",
    "    m = np.log10(m) # converting to log10\n",
    "    ratios = np.zeros((len(a_range), ))\n",
    "\n",
    "    halos_cdm, subhalos_cdm = model.get_z(0)\n",
    "    values_cdm, cumulative_cdm, base_cdm, mass_cut_cdm = cdm.shmf(0, return_masscut_idx=True)\n",
    "    mass_ind = np.argmin(np.abs(base_cdm - m))\n",
    "\n",
    "    for i, a in enumerate(a_range):\n",
    "        \n",
    "        halos, subhalos = model.get_a(a)\n",
    "        values, cumulative, base, mass_cut = model.shmf( (1.0/a) - 1.0, return_masscut_idx=True)\n",
    "        temp = (1.*len(subhalos['Mpeak'][mass_cut])-cumulative)/(1.*len(subhalos_cdm['Mpeak'][mass_cut_cdm])-cumulative_cdm)\n",
    "        ratios[i] = temp[mass_ind]\n",
    "\n",
    "    return ratios, [(1.0/a) - 1.0 for a in a_range]\n",
    "\n",
    "def get_ratio_relative_z(model: hlist = cdm, m: float = 0):\n",
    "    a_range = [ a for a in list(model.dict.keys()) if (1.0/a) - 1.0 < 4.5]\n",
    "    z_range = [(1.0/a) - 1.0 for a in a_range]\n",
    "\n",
    "    m = np.log10(m) # converting to log10\n",
    "    ratios = np.zeros((len(a_range), ))\n",
    "\n",
    "    for i, a in enumerate(a_range):\n",
    "\n",
    "        halos_cdm, subhalos_cdm = model.get_a(a)\n",
    "        values_cdm, cumulative_cdm, base_cdm, mass_cut_cdm = cdm.shmf((1.0/a) - 1.0, return_masscut_idx=True)\n",
    "        mass_ind = np.argmin(np.abs(base_cdm - m))\n",
    "        \n",
    "        halos, subhalos = model.get_a(a)\n",
    "        values, cumulative, base, mass_cut = model.shmf( (1.0/a) - 1.0, return_masscut_idx=True)\n",
    "        temp = (1.*len(subhalos['Mpeak'][mass_cut])-cumulative)/(1.*len(subhalos_cdm['Mpeak'][mass_cut_cdm])-cumulative_cdm)\n",
    "        ratios[i] = temp[mass_ind]\n",
    "        print('.', sep='',end='')\n",
    "\n",
    "    return ratios, z_range\n",
    "        \n",
    "r_new, z_new = get_ratio_relative_z(wdm, 1e9)"
   ]
  },
  {
   "attachments": {},
   "cell_type": "markdown",
   "metadata": {},
   "source": [
    "#### ----- updating functions"
   ]
  },
  {
   "cell_type": "markdown",
   "metadata": {},
   "source": []
  }
 ],
 "metadata": {
  "kernelspec": {
   "display_name": "hmf",
   "language": "python",
   "name": "python3"
  },
  "language_info": {
   "name": "python",
   "version": "3.11.3"
  },
  "orig_nbformat": 4
 },
 "nbformat": 4,
 "nbformat_minor": 2
}
