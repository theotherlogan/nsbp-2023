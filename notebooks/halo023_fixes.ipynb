{
 "cells": [
  {
   "cell_type": "code",
   "execution_count": 2,
   "metadata": {},
   "outputs": [],
   "source": [
    "#...... general imports\n",
    "\n",
    "import numpy as np\n",
    "import pickle\n",
    "from helpers.SimulationAnalysis import SimulationAnalysis, readHlist\n",
    "import matplotlib.pylab as plt\n",
    "from tqdm import tqdm\n",
    "\n",
    "#......new imports (helper class)\n",
    "import sys\n",
    "sys.path.insert(0, '../scripts') # adding to the system path\n",
    "from hlistHelper import hlist # custom object\n",
    "\n",
    "#...... plot formatting\n",
    "\n",
    "%matplotlib inline\n",
    "%config InlineBackend.figure_format='retina'\n",
    "%config InlineBackend.rc = {'figure.facecolor': 'w'}\n",
    "plt.rc(\"text\", usetex=True)\n",
    "plt.rcParams[\"font.family\"] = \"serif\"\n",
    "plt.rcParams[\"mathtext.fontset\"] = 'cm'\n",
    "plt.rcParams['figure.dpi'] = 100\n",
    "plt.rcParams['savefig.transparent'] = True\n",
    "plt.rcParams['figure.facecolor'] = (0.0, 0.0, 0.0, 0.0)\n",
    "\n",
    "\n",
    "\n",
    "#...... colors \n",
    "\n",
    "custom_blues = [\"#99DDFF\",\"#66CCFF\", \"#33BBFF\", \"#00AAFF\", \"#0088CC\", \"#006699\", \"#004466\", \"#000000\"]\n",
    "custom_blues_complement = [\"#FFBB99\", \"#FF9966\", \"#FF7733\", \"#FF5500\", \"#CC4400\", \"#993300\", \"#662200\",\"#000000\"]\n",
    "custom_cet_fdm = [\"#EE99FF\",\"#E566FF\",\"#DD33FF\",\"#D400FF\",\"#AA00CC\",\"#7F0099\"]\n",
    "#[\"#fc5eff\",\"#e330ff\",\"#b11eff\"]\n",
    "\n",
    "sim_colors = {}\n",
    "sim_colors['cdm'] = 'k'\n",
    "sim_colors['vd100'] = 'm'\n",
    "sim_colors['wdm_3.5'] = custom_blues_complement[1]\n",
    "sim_colors['wdm_6.5'] = custom_blues_complement[4]\n",
    "sim_colors['Tkd_0.72kev'] = 'teal'\n",
    "sim_colors['Tkd_0.72kev_vd100'] = 'teal'\n",
    "sim_colors['Tkd_1.46kev'] = 'goldenrod'\n",
    "sim_colors['Tkd_1.46kev_vd100'] = 'goldenrod'\n",
    "sim_colors['Tkd_2.32kev'] = 'brown'\n",
    "sim_colors['Tkd_2.32kev_vd100'] = 'brown'\n",
    "\n",
    "sim_colors['wdm_3'] = custom_blues_complement[0]\n",
    "sim_colors['wdm_4'] = custom_blues_complement[1]\n",
    "sim_colors['wdm_5'] = custom_blues_complement[2]\n",
    "sim_colors['wdm_6'] = custom_blues_complement[3]\n",
    "sim_colors['wdm_6.5'] = custom_blues_complement[4]\n",
    "sim_colors['wdm_10'] = custom_blues_complement[5]\n",
    "sim_colors['idm_1e-4GeV'] = custom_blues[0]\n",
    "sim_colors['idm_1e-2GeV'] = custom_blues[2]\n",
    "sim_colors['idm_1GeV'] = custom_blues[4]\n",
    "sim_colors['fdm_25.9e-22eV'] = custom_cet_fdm[0]\n",
    "sim_colors['fdm_69.4e-22eV'] = custom_cet_fdm[1]\n",
    "sim_colors['fdm_113e-22eV'] = custom_cet_fdm[2]\n",
    "sim_colors['fdm_151e-22eV'] = custom_cet_fdm[3]\n",
    "sim_colors['fdm_185e-22eV'] = custom_cet_fdm[4]\n",
    "sim_colors['fdm_490e-22eV'] = custom_cet_fdm[5]"
   ]
  },
  {
   "cell_type": "markdown",
   "metadata": {},
   "source": [
    "## goals\n",
    "\n",
    "check how the main-branch progenitor reported by consistent-trees looks at the redshifts in question — in terms of mass, a scatterplot of halos and subhalos at that redshift, etc. \n",
    "\n",
    "the next step would be to track the mergers that progenitor experienced — we could look at the non-normalized mass accretion history to see if there’s a jump around then, and then look for objects that merge onto the main branch using the progenitor and descendant IDs in the halo catalog"
   ]
  },
  {
   "cell_type": "code",
   "execution_count": null,
   "metadata": {},
   "outputs": [],
   "source": []
  }
 ],
 "metadata": {
  "kernelspec": {
   "display_name": "Python 3",
   "language": "python",
   "name": "python3"
  },
  "language_info": {
   "codemirror_mode": {
    "name": "ipython",
    "version": 3
   },
   "file_extension": ".py",
   "mimetype": "text/x-python",
   "name": "python",
   "nbconvert_exporter": "python",
   "pygments_lexer": "ipython3",
   "version": "3.7.0"
  }
 },
 "nbformat": 4,
 "nbformat_minor": 4
}
