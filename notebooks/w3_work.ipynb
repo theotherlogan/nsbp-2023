{
 "cells": [
  {
   "attachments": {},
   "cell_type": "markdown",
   "metadata": {},
   "source": [
    "### Imports"
   ]
  },
  {
   "cell_type": "code",
   "execution_count": 1,
   "metadata": {},
   "outputs": [
    {
     "name": "stdout",
     "output_type": "stream",
     "text": [
      "Intel MKL WARNING: Support of Intel(R) Streaming SIMD Extensions 4.2 (Intel(R) SSE4.2) enabled only processors has been deprecated. Intel oneAPI Math Kernel Library 2025.0 will require Intel(R) Advanced Vector Extensions (Intel(R) AVX) instructions.\n",
      "Intel MKL WARNING: Support of Intel(R) Streaming SIMD Extensions 4.2 (Intel(R) SSE4.2) enabled only processors has been deprecated. Intel oneAPI Math Kernel Library 2025.0 will require Intel(R) Advanced Vector Extensions (Intel(R) AVX) instructions.\n"
     ]
    }
   ],
   "source": [
    "import os\n",
    "import numpy as np\n",
    "import pickle\n",
    "from helpers.SimulationAnalysis import SimulationAnalysis, readHlist\n",
    "import matplotlib.pylab as plt\n",
    "\n",
    "#......new imports (helper class)\n",
    "import sys\n",
    "sys.path.insert(0, '/Users/logan_main/nsbp-2023/scripts') # adding to the system path\n",
    "from hlistHelper import hlist\n",
    "\n",
    "#......formatting\n",
    "%matplotlib inline\n",
    "%config InlineBackend.figure_format='retina'\n",
    "%config InlineBackend.rc = {'figure.facecolor': 'w'}"
   ]
  },
  {
   "attachments": {},
   "cell_type": "markdown",
   "metadata": {},
   "source": [
    "## Upcoming"
   ]
  },
  {
   "cell_type": "code",
   "execution_count": null,
   "metadata": {},
   "outputs": [],
   "source": [
    "# TODO: scatterplot for z = 0.85 upper mass discrepancy investigation (see w2)\n",
    "# TODO: work on visualization testing for helper class\n",
    "# TODO: think about ways to model N(tot) as funct. of z\n",
    "# TODO: other fun visualizations? mess around."
   ]
  },
  {
   "cell_type": "code",
   "execution_count": null,
   "metadata": {},
   "outputs": [],
   "source": [
    "# TODO: mess around with high redshift hlists (finding limits/future checks)\n",
    "\n",
    "\n"
   ]
  },
  {
   "attachments": {},
   "cell_type": "markdown",
   "metadata": {},
   "source": [
    "#### trying $V_{max}$ plots (Lovell et al. 2014)\n",
    "(maybe come back to this?? clearly it didn't work out)"
   ]
  }
 ],
 "metadata": {
  "kernelspec": {
   "display_name": "hmf",
   "language": "python",
   "name": "python3"
  },
  "language_info": {
   "codemirror_mode": {
    "name": "ipython",
    "version": 3
   },
   "file_extension": ".py",
   "mimetype": "text/x-python",
   "name": "python",
   "nbconvert_exporter": "python",
   "pygments_lexer": "ipython3",
   "version": "3.11.3"
  },
  "orig_nbformat": 4
 },
 "nbformat": 4,
 "nbformat_minor": 2
}
