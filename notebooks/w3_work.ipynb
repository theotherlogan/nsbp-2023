{
 "cells": [
  {
   "attachments": {},
   "cell_type": "markdown",
   "metadata": {},
   "source": [
    "### Imports"
   ]
  },
  {
   "cell_type": "code",
   "execution_count": null,
   "metadata": {},
   "outputs": [],
   "source": [
    "import os\n",
    "import numpy as np\n",
    "import pickle\n",
    "from helpers.SimulationAnalysis import SimulationAnalysis, readHlist\n",
    "import matplotlib.pylab as plt\n",
    "\n",
    "#......new imports (helper class)\n",
    "import sys\n",
    "sys.path.insert(0, '/Users/logan_main/nsbp-2023/scripts') # adding to the system path\n",
    "from hlistHelper import hlist\n",
    "\n",
    "#......formatting\n",
    "%matplotlib inline\n",
    "%config InlineBackend.figure_format='retina'\n",
    "%config InlineBackend.rc = {'figure.facecolor': 'w'}"
   ]
  },
  {
   "attachments": {},
   "cell_type": "markdown",
   "metadata": {},
   "source": [
    "## Upcoming"
   ]
  },
  {
   "cell_type": "code",
   "execution_count": null,
   "metadata": {},
   "outputs": [],
   "source": [
    "# TODO: scatterplot for z = 0.85 upper mass discrepancy investigation (see w2)\n",
    "# TODO: mess around with high redshift hlists (finding limits/future checks)\n",
    "# TODO: work on visualization testing for helper class\n",
    "# TODO: think about ways to model N(tot) as funct. of z\n",
    "# TODO: other fun visualizations? mess around."
   ]
  }
 ],
 "metadata": {
  "kernelspec": {
   "display_name": "hmf",
   "language": "python",
   "name": "python3"
  },
  "language_info": {
   "name": "python",
   "version": "3.11.3"
  },
  "orig_nbformat": 4
 },
 "nbformat": 4,
 "nbformat_minor": 2
}
